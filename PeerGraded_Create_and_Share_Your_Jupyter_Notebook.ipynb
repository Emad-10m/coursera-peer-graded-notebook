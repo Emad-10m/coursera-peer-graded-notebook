{
 "cells": [
  {
   "cell_type": "markdown",
   "id": "e0295134",
   "metadata": {},
   "source": [
    "# Data Science Tools and Ecosystem\n",
    "\n",
    "This notebook summarizes widely used languages, libraries, and tools in data science, and shows a few simple Python calculations."
   ]
  },
  {
   "cell_type": "markdown",
   "id": "793debb1",
   "metadata": {},
   "source": [
    "## Objectives\n",
    "- List popular languages for Data Science\n",
    "- List commonly used libraries\n",
    "- Create a small table of tools\n",
    "- Evaluate a simple arithmetic expression in Python\n",
    "- Convert minutes to hours in Python"
   ]
  },
  {
   "cell_type": "markdown",
   "id": "9c84f536",
   "metadata": {},
   "source": [
    "## Data Science Languages\n",
    "- Python\n",
    "- R\n",
    "- SQL"
   ]
  },
  {
   "cell_type": "markdown",
   "id": "d32a25be",
   "metadata": {},
   "source": [
    "## Data Science Libraries\n",
    "- pandas\n",
    "- NumPy\n",
    "- Matplotlib\n",
    "- scikit-learn"
   ]
  },
  {
   "cell_type": "markdown",
   "id": "db860880",
   "metadata": {},
   "source": [
    "## Data Science Tools"
   ]
  },
  {
   "cell_type": "code",
   "execution_count": 1,
   "id": "1feecabb",
   "metadata": {
    "execution": {
     "iopub.execute_input": "2025-10-25T16:56:13.558609Z",
     "iopub.status.busy": "2025-10-25T16:56:13.558238Z",
     "iopub.status.idle": "2025-10-25T16:56:14.842086Z",
     "shell.execute_reply": "2025-10-25T16:56:14.840920Z"
    }
   },
   "outputs": [
    {
     "data": {
      "text/html": [
       "<div>\n",
       "<style scoped>\n",
       "    .dataframe tbody tr th:only-of-type {\n",
       "        vertical-align: middle;\n",
       "    }\n",
       "\n",
       "    .dataframe tbody tr th {\n",
       "        vertical-align: top;\n",
       "    }\n",
       "\n",
       "    .dataframe thead th {\n",
       "        text-align: right;\n",
       "    }\n",
       "</style>\n",
       "<table border=\"1\" class=\"dataframe\">\n",
       "  <thead>\n",
       "    <tr style=\"text-align: right;\">\n",
       "      <th></th>\n",
       "      <th>Tool</th>\n",
       "      <th>Category</th>\n",
       "    </tr>\n",
       "  </thead>\n",
       "  <tbody>\n",
       "    <tr>\n",
       "      <th>0</th>\n",
       "      <td>JupyterLab</td>\n",
       "      <td>Notebook IDE</td>\n",
       "    </tr>\n",
       "    <tr>\n",
       "      <th>1</th>\n",
       "      <td>RStudio</td>\n",
       "      <td>Statistical IDE</td>\n",
       "    </tr>\n",
       "    <tr>\n",
       "      <th>2</th>\n",
       "      <td>VS Code</td>\n",
       "      <td>Code Editor</td>\n",
       "    </tr>\n",
       "  </tbody>\n",
       "</table>\n",
       "</div>"
      ],
      "text/plain": [
       "         Tool         Category\n",
       "0  JupyterLab     Notebook IDE\n",
       "1     RStudio  Statistical IDE\n",
       "2     VS Code      Code Editor"
      ]
     },
     "execution_count": 1,
     "metadata": {},
     "output_type": "execute_result"
    }
   ],
   "source": [
    "import pandas as pd\n",
    "tools = pd.DataFrame({\n",
    "    'Tool': ['JupyterLab', 'RStudio', 'VS Code'],\n",
    "    'Category': ['Notebook IDE', 'Statistical IDE', 'Code Editor']\n",
    "})\n",
    "tools"
   ]
  },
  {
   "cell_type": "markdown",
   "id": "6e7ed437",
   "metadata": {},
   "source": [
    "### Arithmetic Expression Examples"
   ]
  },
  {
   "cell_type": "code",
   "execution_count": 2,
   "id": "78dc0b3e",
   "metadata": {
    "execution": {
     "iopub.execute_input": "2025-10-25T16:56:14.847872Z",
     "iopub.status.busy": "2025-10-25T16:56:14.847355Z",
     "iopub.status.idle": "2025-10-25T16:56:14.853656Z",
     "shell.execute_reply": "2025-10-25T16:56:14.852950Z"
    }
   },
   "outputs": [
    {
     "data": {
      "text/plain": [
       "17"
      ]
     },
     "execution_count": 2,
     "metadata": {},
     "output_type": "execute_result"
    }
   ],
   "source": [
    "# This is a simple arithmetic expression to multiply then add integers\n",
    "(3*4)+5"
   ]
  },
  {
   "cell_type": "code",
   "execution_count": 3,
   "id": "1abd547f",
   "metadata": {
    "execution": {
     "iopub.execute_input": "2025-10-25T16:56:14.859281Z",
     "iopub.status.busy": "2025-10-25T16:56:14.858809Z",
     "iopub.status.idle": "2025-10-25T16:56:14.905717Z",
     "shell.execute_reply": "2025-10-25T16:56:14.904281Z"
    }
   },
   "outputs": [
    {
     "data": {
      "text/plain": [
       "3.3333333333333335"
      ]
     },
     "execution_count": 3,
     "metadata": {},
     "output_type": "execute_result"
    }
   ],
   "source": [
    "# This will convert 200 minutes to hours by dividing by 60\n",
    "minutes = 200\n",
    "hours = minutes/60\n",
    "hours"
   ]
  },
  {
   "cell_type": "markdown",
   "id": "56d25a62",
   "metadata": {},
   "source": [
    "## Author\n",
    "عماد (Emad)"
   ]
  }
 ],
 "metadata": {
  "language_info": {
   "codemirror_mode": {
    "name": "ipython",
    "version": 3
   },
   "file_extension": ".py",
   "mimetype": "text/x-python",
   "name": "python",
   "nbconvert_exporter": "python",
   "pygments_lexer": "ipython3",
   "version": "3.11.8"
  }
 },
 "nbformat": 4,
 "nbformat_minor": 5
}
